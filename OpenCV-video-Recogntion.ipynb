{
 "cells": [
  {
   "cell_type": "markdown",
   "id": "b0080778",
   "metadata": {},
   "source": [
    "#  Video Recognation by OpenCV"
   ]
  },
  {
   "cell_type": "code",
   "execution_count": 1,
   "id": "beffcbd9",
   "metadata": {},
   "outputs": [],
   "source": [
    "import cv2"
   ]
  },
  {
   "cell_type": "code",
   "execution_count": null,
   "id": "0e74a725",
   "metadata": {},
   "outputs": [],
   "source": [
    "## Import video from path and read in a frame\n",
    "\n",
    "vid = cv2.VideoCapture('C:\\\\Users\\\\Avik Das\\\\Documents\\\\OpenCV\\\\contents\\\\snell.mp4')\n",
    "\n",
    "while True:\n",
    "    ret, frame=vid.read() # here read the frame\n",
    "    \n",
    "    cv2.imshow('Videoframe',frame)\n",
    "    cv2.waitKey(25)\n",
    "vid.release()\n",
    "cv2.destroyAllWindows()"
   ]
  },
  {
   "cell_type": "markdown",
   "id": "c07ce723",
   "metadata": {},
   "source": [
    "## Resize a video "
   ]
  },
  {
   "cell_type": "code",
   "execution_count": null,
   "id": "41809647",
   "metadata": {},
   "outputs": [],
   "source": [
    "## Resize a video\n",
    "\n",
    "vid = cv2.VideoCapture('C:\\\\Users\\\\Avik Das\\\\Documents\\\\OpenCV\\\\contents\\\\snell.mp4')\n",
    "\n",
    "while True:\n",
    "    ret, frame=vid.read() # here read the frame\n",
    "    frame = cv2.resize(frame,(700,450))\n",
    "    cv2.imshow('Videoframe',frame)\n",
    "    cv2.waitKey(120)\n",
    "vid.release()\n",
    "cv2.destroyAllWindows()"
   ]
  },
  {
   "cell_type": "markdown",
   "id": "66b03adc",
   "metadata": {},
   "source": [
    "# Convert video colour from RGB to Grayscale"
   ]
  },
  {
   "cell_type": "code",
   "execution_count": 2,
   "id": "903b37b4",
   "metadata": {},
   "outputs": [
    {
     "ename": "error",
     "evalue": "OpenCV(4.8.0) D:\\a\\opencv-python\\opencv-python\\opencv\\modules\\imgproc\\src\\resize.cpp:4062: error: (-215:Assertion failed) !ssize.empty() in function 'cv::resize'\n",
     "output_type": "error",
     "traceback": [
      "\u001b[1;31m---------------------------------------------------------------------------\u001b[0m",
      "\u001b[1;31merror\u001b[0m                                     Traceback (most recent call last)",
      "\u001b[1;32m<ipython-input-2-83e10b04b0fd>\u001b[0m in \u001b[0;36m<module>\u001b[1;34m\u001b[0m\n\u001b[0;32m      3\u001b[0m \u001b[1;32mwhile\u001b[0m \u001b[1;32mTrue\u001b[0m\u001b[1;33m:\u001b[0m\u001b[1;33m\u001b[0m\u001b[1;33m\u001b[0m\u001b[0m\n\u001b[0;32m      4\u001b[0m     \u001b[0mret\u001b[0m\u001b[1;33m,\u001b[0m \u001b[0mframe\u001b[0m\u001b[1;33m=\u001b[0m\u001b[0mvid\u001b[0m\u001b[1;33m.\u001b[0m\u001b[0mread\u001b[0m\u001b[1;33m(\u001b[0m\u001b[1;33m)\u001b[0m \u001b[1;31m# here read the frame\u001b[0m\u001b[1;33m\u001b[0m\u001b[1;33m\u001b[0m\u001b[0m\n\u001b[1;32m----> 5\u001b[1;33m     \u001b[0mframe\u001b[0m \u001b[1;33m=\u001b[0m \u001b[0mcv2\u001b[0m\u001b[1;33m.\u001b[0m\u001b[0mresize\u001b[0m\u001b[1;33m(\u001b[0m\u001b[0mframe\u001b[0m\u001b[1;33m,\u001b[0m\u001b[1;33m(\u001b[0m\u001b[1;36m700\u001b[0m\u001b[1;33m,\u001b[0m\u001b[1;36m450\u001b[0m\u001b[1;33m)\u001b[0m\u001b[1;33m)\u001b[0m\u001b[1;33m\u001b[0m\u001b[1;33m\u001b[0m\u001b[0m\n\u001b[0m\u001b[0;32m      6\u001b[0m     \u001b[0mgray\u001b[0m \u001b[1;33m=\u001b[0m \u001b[0mcv2\u001b[0m\u001b[1;33m.\u001b[0m\u001b[0mcvtColor\u001b[0m\u001b[1;33m(\u001b[0m\u001b[0mframe\u001b[0m\u001b[1;33m,\u001b[0m\u001b[0mcv2\u001b[0m\u001b[1;33m.\u001b[0m\u001b[0mCOLOR_BGR2GRAY\u001b[0m\u001b[1;33m)\u001b[0m\u001b[1;33m\u001b[0m\u001b[1;33m\u001b[0m\u001b[0m\n\u001b[0;32m      7\u001b[0m     \u001b[1;31m#cv2.imshow('Videoframe',frame)\u001b[0m\u001b[1;33m\u001b[0m\u001b[1;33m\u001b[0m\u001b[1;33m\u001b[0m\u001b[0m\n",
      "\u001b[1;31merror\u001b[0m: OpenCV(4.8.0) D:\\a\\opencv-python\\opencv-python\\opencv\\modules\\imgproc\\src\\resize.cpp:4062: error: (-215:Assertion failed) !ssize.empty() in function 'cv::resize'\n"
     ]
    }
   ],
   "source": [
    "vid = cv2.VideoCapture('C:\\\\Users\\\\Avik Das\\\\Documents\\\\OpenCV\\\\contents\\\\snell.mp4')\n",
    "\n",
    "while True:\n",
    "    ret, frame=vid.read() # here read the frame\n",
    "    frame = cv2.resize(frame,(700,450))\n",
    "    gray = cv2.cvtColor(frame,cv2.COLOR_BGR2GRAY)\n",
    "    #cv2.imshow('Videoframe',frame)\n",
    "    cv2.imshow('Videoframe',gray)\n",
    "    cv2.waitKey(120)\n",
    "vid.release()\n",
    "cv2.destroyAllWindows()"
   ]
  },
  {
   "cell_type": "markdown",
   "id": "c33fa0de",
   "metadata": {},
   "source": [
    "## Flip video"
   ]
  },
  {
   "cell_type": "code",
   "execution_count": null,
   "id": "51b9a0b9",
   "metadata": {},
   "outputs": [],
   "source": [
    "import cv2\n",
    "vid = cv2.VideoCapture('C:\\\\Users\\\\Avik Das\\\\Documents\\\\OpenCV\\\\contents\\\\snell.mp4')\n",
    "\n",
    "while True:\n",
    "    ret, frame=vid.read() # here read the frame\n",
    "    frame = cv2.resize(frame,(700,450))\n",
    "    flip = cv2.flip(frame,-1)             #  it accepts 3 parameters 0,1,-1\n",
    "    #cv2.imshow('Videoframe',frame)\n",
    "    cv2.imshow('Videoframe',flip)\n",
    "    cv2.waitKey(120)\n",
    "    \n",
    "vid.release()\n",
    "cv2.destroyAllWindows()"
   ]
  },
  {
   "cell_type": "markdown",
   "id": "7636ad94",
   "metadata": {},
   "source": [
    "## Terminate video from it's Loop"
   ]
  },
  {
   "cell_type": "code",
   "execution_count": 6,
   "id": "5941836b",
   "metadata": {},
   "outputs": [],
   "source": [
    "import cv2\n",
    "vid = cv2.VideoCapture('C:\\\\Users\\\\Avik Das\\\\Documents\\\\OpenCV\\\\contents\\\\snell.mp4')\n",
    "\n",
    "while True:\n",
    "    ret, frame=vid.read() # here read the frame\n",
    "    frame = cv2.resize(frame,(700,450))\n",
    "    flip = cv2.flip(frame,-1)\n",
    "    #cv2.imshow('Videoframe',frame)\n",
    "    cv2.imshow('Videoframe',flip)\n",
    "    if cv2.waitKey(120) == ord('q'):  ## ord(\"q\") returns the Unicode code point of q\n",
    "        break\n",
    "    \n",
    "vid.release()\n",
    "cv2.destroyAllWindows()"
   ]
  },
  {
   "cell_type": "markdown",
   "id": "27ac87e7",
   "metadata": {},
   "source": [
    "# Capture video from webcam"
   ]
  },
  {
   "cell_type": "code",
   "execution_count": 3,
   "id": "041ed158",
   "metadata": {},
   "outputs": [],
   "source": [
    "import cv2\n",
    "vid = cv2.VideoCapture(0,cv2.CAP_DSHOW)  # 0 PARAMETER is a path to use inbuilt webcam of your  pc\n",
    "\n",
    "while vid.isOpened():\n",
    "    ret, frame=vid.read() # here read the frame   ## ret = complete video , frame = total image of the video\n",
    "    if ret==True:\n",
    "        frame = cv2.resize(frame,(700,450))\n",
    "        gray = cv2.cvtColor(frame,cv2.COLOR_BGR2GRAY)\n",
    "        cv2.imshow('Videoframe',frame)\n",
    "        #cv2.imshow('Videoframe',gray)\n",
    "        if cv2.waitKey(120) == ord('q'):  ## ord(\"q\") returns the Unicode code point of q\n",
    "            break\n",
    "vid.release()\n",
    "cv2.destroyAllWindows()"
   ]
  },
  {
   "cell_type": "markdown",
   "id": "d8b49079",
   "metadata": {},
   "source": [
    "# Capture video and Save this to directory"
   ]
  },
  {
   "cell_type": "code",
   "execution_count": 4,
   "id": "853b9ba0",
   "metadata": {},
   "outputs": [],
   "source": [
    "import cv2\n",
    "vid = cv2.VideoCapture(0,cv2.CAP_DSHOW)  # 0 PARAMETER is a path to use inbuilt webcam of your  pc\n",
    "\n",
    "# DIVX, XVID, MJPG, X264, WMV1, WMV2\n",
    "fourcc = cv2.VideoWriter_fourcc(*'MJPG')\n",
    "\n",
    "# it contains 4 parameter name, codec, fps, resolution\n",
    "output = cv2.VideoWriter('vidavik_output.avi',fourcc,20.0,(640,480),0)\n",
    "\n",
    "#print(vid)\n",
    "\n",
    "\n",
    "while (vid.isOpened()):\n",
    "    ret, frame=vid.read() # here read the frame   ## ret = complete video , frame = total image of the video\n",
    "    if ret==True:\n",
    "        frame = cv2.resize(frame,(700,450))\n",
    "        gray = cv2.cvtColor(frame,cv2.COLOR_BGR2GRAY)\n",
    "        cv2.imshow('Videoframe',frame)\n",
    "        #cv2.imshow('Videoframe',gray)\n",
    "        if cv2.waitKey(1) == ord('q'):  ## ord(\"q\") returns the Unicode code point of q\n",
    "            break\n",
    "vid.release()\n",
    "output.release()\n",
    "cv2.destroyAllWindows()"
   ]
  },
  {
   "cell_type": "code",
   "execution_count": 5,
   "id": "0093d265",
   "metadata": {},
   "outputs": [
    {
     "name": "stdout",
     "output_type": "stream",
     "text": [
      "check=== True\n"
     ]
    }
   ],
   "source": [
    "#How to read Video from any folder using opencv\n",
    "\n",
    "import cv2\n",
    "\n",
    "#Here with the help of videoCapture fucntion we easily ready any video.\n",
    "\"\"\"\n",
    "cap = cv2.VideoCapture(\"Data\\\\Pirates.mp4\")   #Here parameter is a path of any video\n",
    "\n",
    "while True:\n",
    "    ret, frame = cap.read()   #here read the frame\n",
    "    #get height and width of frame\n",
    "    print(\"Width ==>\",cv2.CAP_PROP_FRAME_WIDTH)\n",
    "    print(\"Height==>\",cv2.CAP_PROP_FRAME_HEIGHT)\n",
    "    \n",
    "    frame = cv2.resize(frame,(700,450))\n",
    "    gray  = cv2.cvtColor(frame,cv2.COLOR_BGR2GRAY)\n",
    "    frame = cv2.flip(frame,-1) \n",
    "    cv2.imshow('Colorframe',frame)\n",
    "    cv2.imshow(\"Gray Frame\",gray)\n",
    "    if cv2.waitKey(25) & 0xFF == ord('q'):   #press to exit\n",
    "        break\n",
    "   \n",
    "# Release everything if job is finished\n",
    "cap.release()\n",
    "cv2.destroyAllWindows()\n",
    "\"\"\"\n",
    "\n",
    "#Capture  video from webcam and save it\n",
    "\n",
    "cap = cv2.VideoCapture(0,cv2.CAP_DSHOW)   #Here parameter 0 is a path of any video use for webcam\n",
    "print(\"check===\",cap.isOpened())\n",
    "\n",
    "#it is 4 byte code which is use to specify the video codec\n",
    "#Various codec -- \n",
    "#DIVX, XVID, MJPG, X264, WMV1, WMV2\n",
    "fourcc = cv2.VideoWriter_fourcc(*'MJPG')  # *\"XVID\"\n",
    "#It contain 4 parameter , name, codec,fps,resolution\n",
    "output = cv2.VideoWriter(\"generate.avi\",fourcc,20.0,(640,480),0)\n",
    "\n",
    "while(cap.isOpened()):\n",
    "    ret, frame = cap.read()   #here read the frame\n",
    "    \n",
    "    if ret==True:\n",
    "        \n",
    "        gray  = cv2.cvtColor(frame,cv2.COLOR_BGR2GRAY)\n",
    "        #here flip is used to lip the video at recording time\n",
    "        frame = cv2.flip(frame,0)\n",
    "        output.write(gray)\n",
    "        \n",
    "        cv2.imshow(\"Gray Frame\",gray)\n",
    "        cv2.imshow('Colorframe',frame)\n",
    "        if cv2.waitKey(1) & 0xFF == ord('q'):   #press to exit\n",
    "            break\n",
    "    else:\n",
    "        break\n",
    " \n",
    "# Release everything if job is finished\n",
    "cap.release()\n",
    "output.release()\n",
    "cv2.destroyAllWindows()\n",
    "\n",
    "\n",
    "\n",
    "\n",
    "\n",
    "\n",
    "\n"
   ]
  },
  {
   "cell_type": "code",
   "execution_count": 7,
   "id": "d907e88e",
   "metadata": {},
   "outputs": [
    {
     "data": {
      "text/plain": [
       "'C:\\\\Users\\\\Avik Das\\\\Documents\\\\OpenCV'"
      ]
     },
     "execution_count": 7,
     "metadata": {},
     "output_type": "execute_result"
    }
   ],
   "source": [
    "pwd"
   ]
  },
  {
   "cell_type": "markdown",
   "id": "a91dd966",
   "metadata": {},
   "source": [
    "# Capture video from IPwebcam from different device"
   ]
  },
  {
   "cell_type": "code",
   "execution_count": 8,
   "id": "968a9f8f",
   "metadata": {},
   "outputs": [
    {
     "name": "stdout",
     "output_type": "stream",
     "text": [
      "check== True\n"
     ]
    }
   ],
   "source": [
    "import cv2\n",
    "camera = \"http://192.168.0.105:8080/video\"\n",
    "# connect your laptop and android device which is connected to same networks\n",
    "\n",
    "cap = cv2.VideoCapture(0,cv2.CAP_DSHOW)  # here parameter 0 is a path of any video use for webcam\n",
    "cap.open(camera)\n",
    "print(\"check==\",cap.isOpened())\n",
    "\n",
    "#it is 4 byte code which is use to specify the video codec\n",
    "fourcc = cv2.VideoWriter_fourcc(*'MJPG')\n",
    "\n",
    "# It contain 4 parameter, name, codec, fps, resolution\n",
    "output = cv2.VideoWriter(\"gen.avi\",fourcc,20.0,(640,480),0)\n",
    "\n",
    "while(cap.isOpened()):\n",
    "    ret,frame = cap.read()\n",
    "    if ret == True:\n",
    "        frame = cv2.resize(frame,(700,700))\n",
    "        grey = cv2.cvtColor(frame,cv2.COLOR_BGR2GRAY)\n",
    "        \n",
    "        cv2.imshow(\"Gray Frame\",grey)\n",
    "        cv2.imshow(\"Colour Frame\",frame)\n",
    "        \n",
    "        \n",
    "        if cv2.waitKey(1) &0xFF== ord('q'):\n",
    "            break\n",
    "            \n",
    "# release everything when job is finished\n",
    "cap.release()\n",
    "output.release()\n",
    "cv2.destroyAllWindows()\n",
    "        "
   ]
  },
  {
   "cell_type": "code",
   "execution_count": 9,
   "id": "1dddfc1d",
   "metadata": {},
   "outputs": [
    {
     "ename": "ModuleNotFoundError",
     "evalue": "No module named 'pafy'",
     "output_type": "error",
     "traceback": [
      "\u001b[1;31m---------------------------------------------------------------------------\u001b[0m",
      "\u001b[1;31mModuleNotFoundError\u001b[0m                       Traceback (most recent call last)",
      "\u001b[1;32m<ipython-input-9-2bd8ef15b399>\u001b[0m in \u001b[0;36m<module>\u001b[1;34m\u001b[0m\n\u001b[1;32m----> 1\u001b[1;33m \u001b[1;32mimport\u001b[0m \u001b[0mpafy\u001b[0m\u001b[1;33m\u001b[0m\u001b[1;33m\u001b[0m\u001b[0m\n\u001b[0m",
      "\u001b[1;31mModuleNotFoundError\u001b[0m: No module named 'pafy'"
     ]
    }
   ],
   "source": [
    "import pafy"
   ]
  },
  {
   "cell_type": "markdown",
   "id": "cfcc4a56",
   "metadata": {},
   "source": [
    "# Youtube Video Capture by OpenCV"
   ]
  },
  {
   "cell_type": "code",
   "execution_count": 11,
   "id": "90afeb72",
   "metadata": {},
   "outputs": [
    {
     "name": "stdout",
     "output_type": "stream",
     "text": [
      "Collecting pafy\n",
      "  Downloading pafy-0.5.5-py2.py3-none-any.whl (35 kB)\n",
      "Installing collected packages: pafy\n",
      "Successfully installed pafy-0.5.5\n"
     ]
    }
   ],
   "source": [
    "!pip install pafy"
   ]
  },
  {
   "cell_type": "code",
   "execution_count": 12,
   "id": "d18c2f6f",
   "metadata": {},
   "outputs": [
    {
     "name": "stdout",
     "output_type": "stream",
     "text": [
      "Collecting youtube_dl\n",
      "  Downloading youtube_dl-2021.12.17-py2.py3-none-any.whl (1.9 MB)\n",
      "Installing collected packages: youtube-dl\n",
      "Successfully installed youtube-dl-2021.12.17\n"
     ]
    }
   ],
   "source": [
    "!pip install youtube_dl"
   ]
  },
  {
   "cell_type": "code",
   "execution_count": 1,
   "id": "cde33f23",
   "metadata": {},
   "outputs": [
    {
     "name": "stderr",
     "output_type": "stream",
     "text": [
      "ERROR: Unable to extract uploader id; please report this issue on https://yt-dl.org/bug . Make sure you are using the latest version; see  https://yt-dl.org/update  on how to update. Be sure to call youtube-dl with the --verbose flag and include its complete output.\n"
     ]
    },
    {
     "ename": "OSError",
     "evalue": "ERROR: Unable to extract uploader id; please report this issue on https://yt-dl.org/bug . Make sure you are using the latest version; see  https://yt-dl.org/update  on how to update. Be sure to call youtube-dl with the --verbose flag and include its complete output.",
     "output_type": "error",
     "traceback": [
      "\u001b[1;31m---------------------------------------------------------------------------\u001b[0m",
      "\u001b[1;31mRegexNotFoundError\u001b[0m                        Traceback (most recent call last)",
      "\u001b[1;32m~\\anaconda3\\lib\\site-packages\\youtube_dl\\YoutubeDL.py\u001b[0m in \u001b[0;36mwrapper\u001b[1;34m(self, *args, **kwargs)\u001b[0m\n\u001b[0;32m    814\u001b[0m             \u001b[1;32mtry\u001b[0m\u001b[1;33m:\u001b[0m\u001b[1;33m\u001b[0m\u001b[1;33m\u001b[0m\u001b[0m\n\u001b[1;32m--> 815\u001b[1;33m                 \u001b[1;32mreturn\u001b[0m \u001b[0mfunc\u001b[0m\u001b[1;33m(\u001b[0m\u001b[0mself\u001b[0m\u001b[1;33m,\u001b[0m \u001b[1;33m*\u001b[0m\u001b[0margs\u001b[0m\u001b[1;33m,\u001b[0m \u001b[1;33m**\u001b[0m\u001b[0mkwargs\u001b[0m\u001b[1;33m)\u001b[0m\u001b[1;33m\u001b[0m\u001b[1;33m\u001b[0m\u001b[0m\n\u001b[0m\u001b[0;32m    816\u001b[0m             \u001b[1;32mexcept\u001b[0m \u001b[0mGeoRestrictedError\u001b[0m \u001b[1;32mas\u001b[0m \u001b[0me\u001b[0m\u001b[1;33m:\u001b[0m\u001b[1;33m\u001b[0m\u001b[1;33m\u001b[0m\u001b[0m\n",
      "\u001b[1;32m~\\anaconda3\\lib\\site-packages\\youtube_dl\\YoutubeDL.py\u001b[0m in \u001b[0;36m__extract_info\u001b[1;34m(self, url, ie, download, extra_info, process)\u001b[0m\n\u001b[0;32m    835\u001b[0m     \u001b[1;32mdef\u001b[0m \u001b[0m__extract_info\u001b[0m\u001b[1;33m(\u001b[0m\u001b[0mself\u001b[0m\u001b[1;33m,\u001b[0m \u001b[0murl\u001b[0m\u001b[1;33m,\u001b[0m \u001b[0mie\u001b[0m\u001b[1;33m,\u001b[0m \u001b[0mdownload\u001b[0m\u001b[1;33m,\u001b[0m \u001b[0mextra_info\u001b[0m\u001b[1;33m,\u001b[0m \u001b[0mprocess\u001b[0m\u001b[1;33m)\u001b[0m\u001b[1;33m:\u001b[0m\u001b[1;33m\u001b[0m\u001b[1;33m\u001b[0m\u001b[0m\n\u001b[1;32m--> 836\u001b[1;33m         \u001b[0mie_result\u001b[0m \u001b[1;33m=\u001b[0m \u001b[0mie\u001b[0m\u001b[1;33m.\u001b[0m\u001b[0mextract\u001b[0m\u001b[1;33m(\u001b[0m\u001b[0murl\u001b[0m\u001b[1;33m)\u001b[0m\u001b[1;33m\u001b[0m\u001b[1;33m\u001b[0m\u001b[0m\n\u001b[0m\u001b[0;32m    837\u001b[0m         \u001b[1;32mif\u001b[0m \u001b[0mie_result\u001b[0m \u001b[1;32mis\u001b[0m \u001b[1;32mNone\u001b[0m\u001b[1;33m:\u001b[0m  \u001b[1;31m# Finished already (backwards compatibility; listformats and friends should be moved here)\u001b[0m\u001b[1;33m\u001b[0m\u001b[1;33m\u001b[0m\u001b[0m\n",
      "\u001b[1;32m~\\anaconda3\\lib\\site-packages\\youtube_dl\\extractor\\common.py\u001b[0m in \u001b[0;36mextract\u001b[1;34m(self, url)\u001b[0m\n\u001b[0;32m    533\u001b[0m                     \u001b[0mself\u001b[0m\u001b[1;33m.\u001b[0m\u001b[0minitialize\u001b[0m\u001b[1;33m(\u001b[0m\u001b[1;33m)\u001b[0m\u001b[1;33m\u001b[0m\u001b[1;33m\u001b[0m\u001b[0m\n\u001b[1;32m--> 534\u001b[1;33m                     \u001b[0mie_result\u001b[0m \u001b[1;33m=\u001b[0m \u001b[0mself\u001b[0m\u001b[1;33m.\u001b[0m\u001b[0m_real_extract\u001b[0m\u001b[1;33m(\u001b[0m\u001b[0murl\u001b[0m\u001b[1;33m)\u001b[0m\u001b[1;33m\u001b[0m\u001b[1;33m\u001b[0m\u001b[0m\n\u001b[0m\u001b[0;32m    535\u001b[0m                     \u001b[1;32mif\u001b[0m \u001b[0mself\u001b[0m\u001b[1;33m.\u001b[0m\u001b[0m_x_forwarded_for_ip\u001b[0m\u001b[1;33m:\u001b[0m\u001b[1;33m\u001b[0m\u001b[1;33m\u001b[0m\u001b[0m\n",
      "\u001b[1;32m~\\anaconda3\\lib\\site-packages\\youtube_dl\\extractor\\youtube.py\u001b[0m in \u001b[0;36m_real_extract\u001b[1;34m(self, url)\u001b[0m\n\u001b[0;32m   1793\u001b[0m             \u001b[1;34m'uploader'\u001b[0m\u001b[1;33m:\u001b[0m \u001b[0mvideo_details\u001b[0m\u001b[1;33m[\u001b[0m\u001b[1;34m'author'\u001b[0m\u001b[1;33m]\u001b[0m\u001b[1;33m,\u001b[0m\u001b[1;33m\u001b[0m\u001b[1;33m\u001b[0m\u001b[0m\n\u001b[1;32m-> 1794\u001b[1;33m             \u001b[1;34m'uploader_id'\u001b[0m\u001b[1;33m:\u001b[0m \u001b[0mself\u001b[0m\u001b[1;33m.\u001b[0m\u001b[0m_search_regex\u001b[0m\u001b[1;33m(\u001b[0m\u001b[1;34mr'/(?:channel|user)/([^/?&#]+)'\u001b[0m\u001b[1;33m,\u001b[0m \u001b[0mowner_profile_url\u001b[0m\u001b[1;33m,\u001b[0m \u001b[1;34m'uploader id'\u001b[0m\u001b[1;33m)\u001b[0m \u001b[1;32mif\u001b[0m \u001b[0mowner_profile_url\u001b[0m \u001b[1;32melse\u001b[0m \u001b[1;32mNone\u001b[0m\u001b[1;33m,\u001b[0m\u001b[1;33m\u001b[0m\u001b[1;33m\u001b[0m\u001b[0m\n\u001b[0m\u001b[0;32m   1795\u001b[0m             \u001b[1;34m'uploader_url'\u001b[0m\u001b[1;33m:\u001b[0m \u001b[0mowner_profile_url\u001b[0m\u001b[1;33m,\u001b[0m\u001b[1;33m\u001b[0m\u001b[1;33m\u001b[0m\u001b[0m\n",
      "\u001b[1;32m~\\anaconda3\\lib\\site-packages\\youtube_dl\\extractor\\common.py\u001b[0m in \u001b[0;36m_search_regex\u001b[1;34m(self, pattern, string, name, default, fatal, flags, group)\u001b[0m\n\u001b[0;32m   1011\u001b[0m         \u001b[1;32melif\u001b[0m \u001b[0mfatal\u001b[0m\u001b[1;33m:\u001b[0m\u001b[1;33m\u001b[0m\u001b[1;33m\u001b[0m\u001b[0m\n\u001b[1;32m-> 1012\u001b[1;33m             \u001b[1;32mraise\u001b[0m \u001b[0mRegexNotFoundError\u001b[0m\u001b[1;33m(\u001b[0m\u001b[1;34m'Unable to extract %s'\u001b[0m \u001b[1;33m%\u001b[0m \u001b[0m_name\u001b[0m\u001b[1;33m)\u001b[0m\u001b[1;33m\u001b[0m\u001b[1;33m\u001b[0m\u001b[0m\n\u001b[0m\u001b[0;32m   1013\u001b[0m         \u001b[1;32melse\u001b[0m\u001b[1;33m:\u001b[0m\u001b[1;33m\u001b[0m\u001b[1;33m\u001b[0m\u001b[0m\n",
      "\u001b[1;31mRegexNotFoundError\u001b[0m: Unable to extract uploader id; please report this issue on https://yt-dl.org/bug . Make sure you are using the latest version; see  https://yt-dl.org/update  on how to update. Be sure to call youtube-dl with the --verbose flag and include its complete output.",
      "\nDuring handling of the above exception, another exception occurred:\n",
      "\u001b[1;31mDownloadError\u001b[0m                             Traceback (most recent call last)",
      "\u001b[1;32m~\\anaconda3\\lib\\site-packages\\pafy\\backend_youtube_dl.py\u001b[0m in \u001b[0;36m_fetch_basic\u001b[1;34m(self)\u001b[0m\n\u001b[0;32m     39\u001b[0m             \u001b[1;32mtry\u001b[0m\u001b[1;33m:\u001b[0m\u001b[1;33m\u001b[0m\u001b[1;33m\u001b[0m\u001b[0m\n\u001b[1;32m---> 40\u001b[1;33m                 \u001b[0mself\u001b[0m\u001b[1;33m.\u001b[0m\u001b[0m_ydl_info\u001b[0m \u001b[1;33m=\u001b[0m \u001b[0mydl\u001b[0m\u001b[1;33m.\u001b[0m\u001b[0mextract_info\u001b[0m\u001b[1;33m(\u001b[0m\u001b[0mself\u001b[0m\u001b[1;33m.\u001b[0m\u001b[0mvideoid\u001b[0m\u001b[1;33m,\u001b[0m \u001b[0mdownload\u001b[0m\u001b[1;33m=\u001b[0m\u001b[1;32mFalse\u001b[0m\u001b[1;33m)\u001b[0m\u001b[1;33m\u001b[0m\u001b[1;33m\u001b[0m\u001b[0m\n\u001b[0m\u001b[0;32m     41\u001b[0m             \u001b[1;31m# Turn into an IOError since that is what pafy previously raised\u001b[0m\u001b[1;33m\u001b[0m\u001b[1;33m\u001b[0m\u001b[1;33m\u001b[0m\u001b[0m\n",
      "\u001b[1;32m~\\anaconda3\\lib\\site-packages\\youtube_dl\\YoutubeDL.py\u001b[0m in \u001b[0;36mextract_info\u001b[1;34m(self, url, download, ie_key, extra_info, process, force_generic_extractor)\u001b[0m\n\u001b[0;32m    807\u001b[0m \u001b[1;33m\u001b[0m\u001b[0m\n\u001b[1;32m--> 808\u001b[1;33m             \u001b[1;32mreturn\u001b[0m \u001b[0mself\u001b[0m\u001b[1;33m.\u001b[0m\u001b[0m__extract_info\u001b[0m\u001b[1;33m(\u001b[0m\u001b[0murl\u001b[0m\u001b[1;33m,\u001b[0m \u001b[0mie\u001b[0m\u001b[1;33m,\u001b[0m \u001b[0mdownload\u001b[0m\u001b[1;33m,\u001b[0m \u001b[0mextra_info\u001b[0m\u001b[1;33m,\u001b[0m \u001b[0mprocess\u001b[0m\u001b[1;33m)\u001b[0m\u001b[1;33m\u001b[0m\u001b[1;33m\u001b[0m\u001b[0m\n\u001b[0m\u001b[0;32m    809\u001b[0m         \u001b[1;32melse\u001b[0m\u001b[1;33m:\u001b[0m\u001b[1;33m\u001b[0m\u001b[1;33m\u001b[0m\u001b[0m\n",
      "\u001b[1;32m~\\anaconda3\\lib\\site-packages\\youtube_dl\\YoutubeDL.py\u001b[0m in \u001b[0;36mwrapper\u001b[1;34m(self, *args, **kwargs)\u001b[0m\n\u001b[0;32m    823\u001b[0m             \u001b[1;32mexcept\u001b[0m \u001b[0mExtractorError\u001b[0m \u001b[1;32mas\u001b[0m \u001b[0me\u001b[0m\u001b[1;33m:\u001b[0m  \u001b[1;31m# An error we somewhat expected\u001b[0m\u001b[1;33m\u001b[0m\u001b[1;33m\u001b[0m\u001b[0m\n\u001b[1;32m--> 824\u001b[1;33m                 \u001b[0mself\u001b[0m\u001b[1;33m.\u001b[0m\u001b[0mreport_error\u001b[0m\u001b[1;33m(\u001b[0m\u001b[0mcompat_str\u001b[0m\u001b[1;33m(\u001b[0m\u001b[0me\u001b[0m\u001b[1;33m)\u001b[0m\u001b[1;33m,\u001b[0m \u001b[0me\u001b[0m\u001b[1;33m.\u001b[0m\u001b[0mformat_traceback\u001b[0m\u001b[1;33m(\u001b[0m\u001b[1;33m)\u001b[0m\u001b[1;33m)\u001b[0m\u001b[1;33m\u001b[0m\u001b[1;33m\u001b[0m\u001b[0m\n\u001b[0m\u001b[0;32m    825\u001b[0m             \u001b[1;32mexcept\u001b[0m \u001b[0mMaxDownloadsReached\u001b[0m\u001b[1;33m:\u001b[0m\u001b[1;33m\u001b[0m\u001b[1;33m\u001b[0m\u001b[0m\n",
      "\u001b[1;32m~\\anaconda3\\lib\\site-packages\\youtube_dl\\YoutubeDL.py\u001b[0m in \u001b[0;36mreport_error\u001b[1;34m(self, message, tb)\u001b[0m\n\u001b[0;32m    627\u001b[0m         \u001b[0merror_message\u001b[0m \u001b[1;33m=\u001b[0m \u001b[1;34m'%s %s'\u001b[0m \u001b[1;33m%\u001b[0m \u001b[1;33m(\u001b[0m\u001b[0m_msg_header\u001b[0m\u001b[1;33m,\u001b[0m \u001b[0mmessage\u001b[0m\u001b[1;33m)\u001b[0m\u001b[1;33m\u001b[0m\u001b[1;33m\u001b[0m\u001b[0m\n\u001b[1;32m--> 628\u001b[1;33m         \u001b[0mself\u001b[0m\u001b[1;33m.\u001b[0m\u001b[0mtrouble\u001b[0m\u001b[1;33m(\u001b[0m\u001b[0merror_message\u001b[0m\u001b[1;33m,\u001b[0m \u001b[0mtb\u001b[0m\u001b[1;33m)\u001b[0m\u001b[1;33m\u001b[0m\u001b[1;33m\u001b[0m\u001b[0m\n\u001b[0m\u001b[0;32m    629\u001b[0m \u001b[1;33m\u001b[0m\u001b[0m\n",
      "\u001b[1;32m~\\anaconda3\\lib\\site-packages\\youtube_dl\\YoutubeDL.py\u001b[0m in \u001b[0;36mtrouble\u001b[1;34m(self, message, tb)\u001b[0m\n\u001b[0;32m    597\u001b[0m                 \u001b[0mexc_info\u001b[0m \u001b[1;33m=\u001b[0m \u001b[0msys\u001b[0m\u001b[1;33m.\u001b[0m\u001b[0mexc_info\u001b[0m\u001b[1;33m(\u001b[0m\u001b[1;33m)\u001b[0m\u001b[1;33m\u001b[0m\u001b[1;33m\u001b[0m\u001b[0m\n\u001b[1;32m--> 598\u001b[1;33m             \u001b[1;32mraise\u001b[0m \u001b[0mDownloadError\u001b[0m\u001b[1;33m(\u001b[0m\u001b[0mmessage\u001b[0m\u001b[1;33m,\u001b[0m \u001b[0mexc_info\u001b[0m\u001b[1;33m)\u001b[0m\u001b[1;33m\u001b[0m\u001b[1;33m\u001b[0m\u001b[0m\n\u001b[0m\u001b[0;32m    599\u001b[0m         \u001b[0mself\u001b[0m\u001b[1;33m.\u001b[0m\u001b[0m_download_retcode\u001b[0m \u001b[1;33m=\u001b[0m \u001b[1;36m1\u001b[0m\u001b[1;33m\u001b[0m\u001b[1;33m\u001b[0m\u001b[0m\n",
      "\u001b[1;31mDownloadError\u001b[0m: ERROR: Unable to extract uploader id; please report this issue on https://yt-dl.org/bug . Make sure you are using the latest version; see  https://yt-dl.org/update  on how to update. Be sure to call youtube-dl with the --verbose flag and include its complete output.",
      "\nDuring handling of the above exception, another exception occurred:\n",
      "\u001b[1;31mOSError\u001b[0m                                   Traceback (most recent call last)",
      "\u001b[1;32m<ipython-input-1-eda8e0964b20>\u001b[0m in \u001b[0;36m<module>\u001b[1;34m\u001b[0m\n\u001b[0;32m      2\u001b[0m \u001b[1;32mimport\u001b[0m \u001b[0mcv2\u001b[0m\u001b[1;33m\u001b[0m\u001b[1;33m\u001b[0m\u001b[0m\n\u001b[0;32m      3\u001b[0m \u001b[0murl\u001b[0m \u001b[1;33m=\u001b[0m \u001b[1;34m\"https://youtu.be/5f1O74GwWJM?si=hUHR_WqaBZOlAynN\"\u001b[0m\u001b[1;33m\u001b[0m\u001b[1;33m\u001b[0m\u001b[0m\n\u001b[1;32m----> 4\u001b[1;33m \u001b[0mdata\u001b[0m \u001b[1;33m=\u001b[0m \u001b[0mpafy\u001b[0m\u001b[1;33m.\u001b[0m\u001b[0mnew\u001b[0m\u001b[1;33m(\u001b[0m\u001b[0murl\u001b[0m\u001b[1;33m)\u001b[0m\u001b[1;33m\u001b[0m\u001b[1;33m\u001b[0m\u001b[0m\n\u001b[0m\u001b[0;32m      5\u001b[0m \u001b[0mdata\u001b[0m \u001b[1;33m=\u001b[0m \u001b[0mdata\u001b[0m\u001b[1;33m.\u001b[0m\u001b[0mgetbest\u001b[0m\u001b[1;33m(\u001b[0m\u001b[0mpreftype\u001b[0m\u001b[1;33m=\u001b[0m\u001b[1;34m\"mp4\"\u001b[0m\u001b[1;33m)\u001b[0m\u001b[1;33m\u001b[0m\u001b[1;33m\u001b[0m\u001b[0m\n\u001b[0;32m      6\u001b[0m \u001b[0mcap\u001b[0m \u001b[1;33m=\u001b[0m \u001b[0mcv2\u001b[0m\u001b[1;33m.\u001b[0m\u001b[0mVideoCapture\u001b[0m\u001b[1;33m(\u001b[0m\u001b[1;33m)\u001b[0m   \u001b[1;31m#\u001b[0m\u001b[1;33m\u001b[0m\u001b[1;33m\u001b[0m\u001b[0m\n",
      "\u001b[1;32m~\\anaconda3\\lib\\site-packages\\pafy\\pafy.py\u001b[0m in \u001b[0;36mnew\u001b[1;34m(url, basic, gdata, size, callback, ydl_opts)\u001b[0m\n\u001b[0;32m    122\u001b[0m            \u001b[1;32mfrom\u001b[0m \u001b[1;33m.\u001b[0m\u001b[0mbackend_youtube_dl\u001b[0m \u001b[1;32mimport\u001b[0m \u001b[0mYtdlPafy\u001b[0m \u001b[1;32mas\u001b[0m \u001b[0mPafy\u001b[0m\u001b[1;33m\u001b[0m\u001b[1;33m\u001b[0m\u001b[0m\n\u001b[0;32m    123\u001b[0m \u001b[1;33m\u001b[0m\u001b[0m\n\u001b[1;32m--> 124\u001b[1;33m     \u001b[1;32mreturn\u001b[0m \u001b[0mPafy\u001b[0m\u001b[1;33m(\u001b[0m\u001b[0murl\u001b[0m\u001b[1;33m,\u001b[0m \u001b[0mbasic\u001b[0m\u001b[1;33m,\u001b[0m \u001b[0mgdata\u001b[0m\u001b[1;33m,\u001b[0m \u001b[0msize\u001b[0m\u001b[1;33m,\u001b[0m \u001b[0mcallback\u001b[0m\u001b[1;33m,\u001b[0m \u001b[0mydl_opts\u001b[0m\u001b[1;33m=\u001b[0m\u001b[0mydl_opts\u001b[0m\u001b[1;33m)\u001b[0m\u001b[1;33m\u001b[0m\u001b[1;33m\u001b[0m\u001b[0m\n\u001b[0m\u001b[0;32m    125\u001b[0m \u001b[1;33m\u001b[0m\u001b[0m\n\u001b[0;32m    126\u001b[0m \u001b[1;33m\u001b[0m\u001b[0m\n",
      "\u001b[1;32m~\\anaconda3\\lib\\site-packages\\pafy\\backend_youtube_dl.py\u001b[0m in \u001b[0;36m__init__\u001b[1;34m(self, *args, **kwargs)\u001b[0m\n\u001b[0;32m     29\u001b[0m         \u001b[1;32mif\u001b[0m \u001b[0mydl_opts\u001b[0m\u001b[1;33m:\u001b[0m\u001b[1;33m\u001b[0m\u001b[1;33m\u001b[0m\u001b[0m\n\u001b[0;32m     30\u001b[0m             \u001b[0mself\u001b[0m\u001b[1;33m.\u001b[0m\u001b[0m_ydl_opts\u001b[0m\u001b[1;33m.\u001b[0m\u001b[0mupdate\u001b[0m\u001b[1;33m(\u001b[0m\u001b[0mydl_opts\u001b[0m\u001b[1;33m)\u001b[0m\u001b[1;33m\u001b[0m\u001b[1;33m\u001b[0m\u001b[0m\n\u001b[1;32m---> 31\u001b[1;33m         \u001b[0msuper\u001b[0m\u001b[1;33m(\u001b[0m\u001b[0mYtdlPafy\u001b[0m\u001b[1;33m,\u001b[0m \u001b[0mself\u001b[0m\u001b[1;33m)\u001b[0m\u001b[1;33m.\u001b[0m\u001b[0m__init__\u001b[0m\u001b[1;33m(\u001b[0m\u001b[1;33m*\u001b[0m\u001b[0margs\u001b[0m\u001b[1;33m,\u001b[0m \u001b[1;33m**\u001b[0m\u001b[0mkwargs\u001b[0m\u001b[1;33m)\u001b[0m\u001b[1;33m\u001b[0m\u001b[1;33m\u001b[0m\u001b[0m\n\u001b[0m\u001b[0;32m     32\u001b[0m \u001b[1;33m\u001b[0m\u001b[0m\n\u001b[0;32m     33\u001b[0m     \u001b[1;32mdef\u001b[0m \u001b[0m_fetch_basic\u001b[0m\u001b[1;33m(\u001b[0m\u001b[0mself\u001b[0m\u001b[1;33m)\u001b[0m\u001b[1;33m:\u001b[0m\u001b[1;33m\u001b[0m\u001b[1;33m\u001b[0m\u001b[0m\n",
      "\u001b[1;32m~\\anaconda3\\lib\\site-packages\\pafy\\backend_shared.py\u001b[0m in \u001b[0;36m__init__\u001b[1;34m(self, video_url, basic, gdata, size, callback, ydl_opts)\u001b[0m\n\u001b[0;32m     95\u001b[0m \u001b[1;33m\u001b[0m\u001b[0m\n\u001b[0;32m     96\u001b[0m         \u001b[1;32mif\u001b[0m \u001b[0mbasic\u001b[0m\u001b[1;33m:\u001b[0m\u001b[1;33m\u001b[0m\u001b[1;33m\u001b[0m\u001b[0m\n\u001b[1;32m---> 97\u001b[1;33m             \u001b[0mself\u001b[0m\u001b[1;33m.\u001b[0m\u001b[0m_fetch_basic\u001b[0m\u001b[1;33m(\u001b[0m\u001b[1;33m)\u001b[0m\u001b[1;33m\u001b[0m\u001b[1;33m\u001b[0m\u001b[0m\n\u001b[0m\u001b[0;32m     98\u001b[0m \u001b[1;33m\u001b[0m\u001b[0m\n\u001b[0;32m     99\u001b[0m         \u001b[1;32mif\u001b[0m \u001b[0mgdata\u001b[0m\u001b[1;33m:\u001b[0m\u001b[1;33m\u001b[0m\u001b[1;33m\u001b[0m\u001b[0m\n",
      "\u001b[1;32m~\\anaconda3\\lib\\site-packages\\pafy\\backend_youtube_dl.py\u001b[0m in \u001b[0;36m_fetch_basic\u001b[1;34m(self)\u001b[0m\n\u001b[0;32m     41\u001b[0m             \u001b[1;31m# Turn into an IOError since that is what pafy previously raised\u001b[0m\u001b[1;33m\u001b[0m\u001b[1;33m\u001b[0m\u001b[1;33m\u001b[0m\u001b[0m\n\u001b[0;32m     42\u001b[0m             \u001b[1;32mexcept\u001b[0m \u001b[0myoutube_dl\u001b[0m\u001b[1;33m.\u001b[0m\u001b[0mutils\u001b[0m\u001b[1;33m.\u001b[0m\u001b[0mDownloadError\u001b[0m \u001b[1;32mas\u001b[0m \u001b[0me\u001b[0m\u001b[1;33m:\u001b[0m\u001b[1;33m\u001b[0m\u001b[1;33m\u001b[0m\u001b[0m\n\u001b[1;32m---> 43\u001b[1;33m                 \u001b[1;32mraise\u001b[0m \u001b[0mIOError\u001b[0m\u001b[1;33m(\u001b[0m\u001b[0mstr\u001b[0m\u001b[1;33m(\u001b[0m\u001b[0me\u001b[0m\u001b[1;33m)\u001b[0m\u001b[1;33m.\u001b[0m\u001b[0mreplace\u001b[0m\u001b[1;33m(\u001b[0m\u001b[1;34m'YouTube said'\u001b[0m\u001b[1;33m,\u001b[0m \u001b[1;34m'Youtube says'\u001b[0m\u001b[1;33m)\u001b[0m\u001b[1;33m)\u001b[0m\u001b[1;33m\u001b[0m\u001b[1;33m\u001b[0m\u001b[0m\n\u001b[0m\u001b[0;32m     44\u001b[0m \u001b[1;33m\u001b[0m\u001b[0m\n\u001b[0;32m     45\u001b[0m         \u001b[1;32mif\u001b[0m \u001b[0mself\u001b[0m\u001b[1;33m.\u001b[0m\u001b[0mcallback\u001b[0m\u001b[1;33m:\u001b[0m\u001b[1;33m\u001b[0m\u001b[1;33m\u001b[0m\u001b[0m\n",
      "\u001b[1;31mOSError\u001b[0m: ERROR: Unable to extract uploader id; please report this issue on https://yt-dl.org/bug . Make sure you are using the latest version; see  https://yt-dl.org/update  on how to update. Be sure to call youtube-dl with the --verbose flag and include its complete output."
     ]
    }
   ],
   "source": [
    "import pafy\n",
    "import cv2\n",
    "url = \"https://youtu.be/5f1O74GwWJM?si=hUHR_WqaBZOlAynN\"\n",
    "data = pafy.new(url)\n",
    "data = data.getbest(preftype=\"mp4\")\n",
    "cap = cv2.VideoCapture()   # \n",
    "cap.open(data.url)\n",
    "\n",
    "\n",
    "\n",
    "while(cap.isOpened()):\n",
    "    ret,frame = cap.read()\n",
    "    if ret == True:\n",
    "        frame = cv2.resize(frame,(700,700))\n",
    "        grey = cv2.cvtColor(frame,cv2.COLOR_BGR2GRAY)\n",
    "        \n",
    "        cv2.imshow(\"Gray Frame\",grey)\n",
    "        cv2.imshow(\"Colour Frame\",frame)\n",
    "        \n",
    "        \n",
    "        if cv2.waitKey(1) & 0xFF== ord('q'):\n",
    "            break\n",
    "            \n",
    "# release everything when job is finished\n",
    "cap.release()\n",
    "output.release()\n",
    "cv2.destroyAllWindows()\n",
    "        \n",
    "            \n",
    "        "
   ]
  },
  {
   "cell_type": "code",
   "execution_count": 2,
   "id": "1afb21fd",
   "metadata": {},
   "outputs": [
    {
     "name": "stderr",
     "output_type": "stream",
     "text": [
      "ERROR: Could not open requirements file: [Errno 2] No such file or directory: 'forge'\n"
     ]
    }
   ],
   "source": [
    "conda install -c forge youtube-dl"
   ]
  },
  {
   "cell_type": "code",
   "execution_count": 6,
   "id": "9b02dfe0",
   "metadata": {},
   "outputs": [
    {
     "name": "stdout",
     "output_type": "stream",
     "text": [
      "Collecting cap-from-youtube\n",
      "  Downloading cap_from_youtube-0.0.10-py3-none-any.whl (3.6 kB)\n",
      "Collecting yt-dlp\n",
      "  Downloading yt_dlp-2023.7.6-py2.py3-none-any.whl (3.0 MB)\n",
      "Requirement already satisfied: opencv-python in c:\\users\\avik das\\anaconda3\\lib\\site-packages (from cap-from-youtube) (4.8.0.76)\n",
      "Requirement already satisfied: numpy in c:\\users\\avik das\\anaconda3\\lib\\site-packages (from cap-from-youtube) (1.22.4)\n",
      "Collecting pycryptodomex\n",
      "  Downloading pycryptodomex-3.18.0-cp35-abi3-win_amd64.whl (1.7 MB)\n",
      "Collecting mutagen\n",
      "  Downloading mutagen-1.46.0-py3-none-any.whl (193 kB)\n",
      "Requirement already satisfied: certifi in c:\\users\\avik das\\anaconda3\\lib\\site-packages (from yt-dlp->cap-from-youtube) (2020.12.5)\n",
      "Collecting websockets\n",
      "  Downloading websockets-11.0.3-cp38-cp38-win_amd64.whl (124 kB)\n",
      "Collecting brotli\n",
      "  Using cached Brotli-1.0.9-cp38-cp38-win_amd64.whl (365 kB)\n",
      "Installing collected packages: websockets, pycryptodomex, mutagen, brotli, yt-dlp, cap-from-youtube\n",
      "Successfully installed brotli-1.0.9 cap-from-youtube-0.0.10 mutagen-1.46.0 pycryptodomex-3.18.0 websockets-11.0.3 yt-dlp-2023.7.6\n"
     ]
    }
   ],
   "source": [
    "# Latest Version\n",
    "!pip install cap-from-youtube"
   ]
  },
  {
   "cell_type": "code",
   "execution_count": null,
   "id": "368f210a",
   "metadata": {},
   "outputs": [
    {
     "name": "stdout",
     "output_type": "stream",
     "text": [
      "[youtube] Extracting URL: https://youtu.be/LXb3EKWsInQ\n",
      "[youtube] LXb3EKWsInQ: Downloading webpage\n",
      "[youtube] LXb3EKWsInQ: Downloading ios player API JSON\n",
      "[youtube] LXb3EKWsInQ: Downloading android player API JSON\n",
      "[youtube] LXb3EKWsInQ: Downloading player 16f9263d\n",
      "[youtube] LXb3EKWsInQ: Downloading m3u8 information\n"
     ]
    }
   ],
   "source": [
    "import cv2\n",
    "from cap_from_youtube import cap_from_youtube\n",
    "\n",
    "youtube_url = 'https://youtu.be/LXb3EKWsInQ'\n",
    "cap = cap_from_youtube(youtube_url, '1440p60')\n",
    "\n",
    "cv2.namedWindow('video', cv2.WINDOW_NORMAL)\n",
    "while True:\n",
    "    ret, frame = cap.read()\n",
    "    if not ret:\n",
    "        break\n",
    "    cv2.imshow('video', frame)\n",
    "    if cv2.waitKey(1) & 0xFF == ord('q'):\n",
    "        break"
   ]
  },
  {
   "cell_type": "code",
   "execution_count": null,
   "id": "db3f4d28",
   "metadata": {},
   "outputs": [],
   "source": []
  }
 ],
 "metadata": {
  "kernelspec": {
   "display_name": "Python 3",
   "language": "python",
   "name": "python3"
  },
  "language_info": {
   "codemirror_mode": {
    "name": "ipython",
    "version": 3
   },
   "file_extension": ".py",
   "mimetype": "text/x-python",
   "name": "python",
   "nbconvert_exporter": "python",
   "pygments_lexer": "ipython3",
   "version": "3.8.8"
  }
 },
 "nbformat": 4,
 "nbformat_minor": 5
}
