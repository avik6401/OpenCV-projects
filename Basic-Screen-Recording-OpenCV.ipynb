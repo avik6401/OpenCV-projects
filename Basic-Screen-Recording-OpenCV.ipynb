{
 "cells": [
  {
   "cell_type": "code",
   "execution_count": 2,
   "id": "1436358a",
   "metadata": {},
   "outputs": [],
   "source": [
    "import cv2 as c\n",
    "import numpy as np\n",
    "import  pyautogui as p"
   ]
  },
  {
   "cell_type": "code",
   "execution_count": 4,
   "id": "e4cc4b23",
   "metadata": {},
   "outputs": [
    {
     "name": "stdout",
     "output_type": "stream",
     "text": [
      "Requirement already satisfied: pyautogui in c:\\users\\avik das\\anaconda3\\lib\\site-packages (0.9.53)\n",
      "Requirement already satisfied: mouseinfo in c:\\users\\avik das\\anaconda3\\lib\\site-packages (from pyautogui) (0.1.3)\n",
      "Requirement already satisfied: pymsgbox in c:\\users\\avik das\\anaconda3\\lib\\site-packages (from pyautogui) (1.0.9)\n",
      "Requirement already satisfied: pyscreeze>=0.1.21 in c:\\users\\avik das\\anaconda3\\lib\\site-packages (from pyautogui) (0.1.28)\n",
      "Requirement already satisfied: pygetwindow>=0.0.5 in c:\\users\\avik das\\anaconda3\\lib\\site-packages (from pyautogui) (0.0.9)\n",
      "Requirement already satisfied: PyTweening>=1.0.1 in c:\\users\\avik das\\anaconda3\\lib\\site-packages (from pyautogui) (1.0.4)\n",
      "Requirement already satisfied: pyrect in c:\\users\\avik das\\anaconda3\\lib\\site-packages (from pygetwindow>=0.0.5->pyautogui) (0.2.0)\n",
      "Requirement already satisfied: Pillow>=6.2.1 in c:\\users\\avik das\\anaconda3\\lib\\site-packages (from pyscreeze>=0.1.21->pyautogui) (8.2.0)\n",
      "Requirement already satisfied: pyperclip in c:\\users\\avik das\\anaconda3\\lib\\site-packages (from mouseinfo->pyautogui) (1.8.2)\n"
     ]
    }
   ],
   "source": [
    "!pip install pyautogui\n"
   ]
  },
  {
   "cell_type": "code",
   "execution_count": 3,
   "id": "e2080535",
   "metadata": {},
   "outputs": [
    {
     "name": "stdout",
     "output_type": "stream",
     "text": [
      "Plsese Enter any file name and PathC:\\Users\\Avik Das\\Documents\\OpenCV\\record.avi\n"
     ]
    }
   ],
   "source": [
    "# Create Resolution\n",
    "\n",
    "rs = p.size()\n",
    "\n",
    "# Filename in which we store recording\n",
    "fn = input(\"Plsese Enter any file name and Path\")\n",
    "\n",
    "#Fix the frame rate\n",
    "fps = 60.0\n",
    "fourcc = c.VideoWriter_fourcc(*'XVID')\n",
    "output = c.VideoWriter(fn,fourcc,fps,rs)\n",
    "\n",
    "# Create recording module\n",
    "c.namedWindow(\"Live_recording\",c.WINDOW_NORMAL)\n",
    "\n",
    "# Resize the \n",
    "#c.resizeWindow(\"Live\",(600,400))\n",
    "\n",
    "while True:\n",
    "    img = p.screenshot()  #image\n",
    "    f = np.array(img)  #convert image into array\n",
    "    f = c.cvtColor(f,c.COLOR_BGR2RGB)\n",
    "    output.write(f)\n",
    "    c.imshow(\"screenshot\",f)\n",
    "    if c.waitKey(1) == ord(\"q\"):\n",
    "        break\n",
    "        \n",
    "c.destroyAllWindows()\n",
    "output.release()\n"
   ]
  },
  {
   "cell_type": "code",
   "execution_count": null,
   "id": "c48a9db6",
   "metadata": {},
   "outputs": [],
   "source": []
  }
 ],
 "metadata": {
  "kernelspec": {
   "display_name": "Python 3",
   "language": "python",
   "name": "python3"
  },
  "language_info": {
   "codemirror_mode": {
    "name": "ipython",
    "version": 3
   },
   "file_extension": ".py",
   "mimetype": "text/x-python",
   "name": "python",
   "nbconvert_exporter": "python",
   "pygments_lexer": "ipython3",
   "version": "3.8.8"
  }
 },
 "nbformat": 4,
 "nbformat_minor": 5
}
