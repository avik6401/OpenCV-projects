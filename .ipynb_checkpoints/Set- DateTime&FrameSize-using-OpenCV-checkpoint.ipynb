{
 "cells": [
  {
   "cell_type": "code",
   "execution_count": 1,
   "id": "bce596c3",
   "metadata": {},
   "outputs": [
    {
     "name": "stdout",
     "output_type": "stream",
     "text": [
      "for width=== 640.0\n",
      "for height== 480.0\n",
      "Width==== 640.0\n",
      "Height=== 480.0\n"
     ]
    }
   ],
   "source": [
    "import cv2\n",
    "import datetime\n",
    "cap = cv2.VideoCapture(0)  #for warn 0 just pass cv2.CAP_DSHOW\n",
    "print(\"for width===\",cap.get(cv2.CAP_PROP_FRAME_WIDTH))\n",
    "print(\"for height==\",cap.get(cv2.CAP_PROP_FRAME_HEIGHT))\n",
    "cap.set(3, 600)  #here 3 for width\n",
    "cap.set(4, 800)  #here 4 for height \n",
    "print(\"Width====\",cap.get(3))\n",
    "print(\"Height===\",cap.get(4))\n",
    "\n",
    "while(cap.isOpened()):\n",
    "    ret, frame = cap.read()\n",
    "    if ret == True:\n",
    "\n",
    "       font = cv2.FONT_HERSHEY_COMPLEX_SMALL\n",
    "       text = ' Height: ' + str(cap.get(4))+' Width: '+ str(cap.get(3))\n",
    "       date_data = \"Date: \"+str(datetime.datetime.now())\n",
    "       frame = cv2.putText(frame, text, (10, 20), font, 1,\n",
    "                           (0, 155, 255), 1, cv2.LINE_AA)\n",
    "       frame = cv2.putText(frame, date_data, (20, 50), font, 1,\n",
    "                           (100, 255, 255), 1, cv2.LINE_AA)\n",
    "       #Rectangle - accept parameter(img,start_co,end_co,colot ,thickness)\n",
    "       cv2.rectangle(frame, (384, 10), (510, 128), (128, 0, 255), 8)\n",
    "       cv2.imshow('frame', frame)\n",
    "\n",
    "       if cv2.waitKey(1) & 0xFF == ord('q'):\n",
    "         break\n",
    "    else:\n",
    "        break\n",
    "\n",
    "cap.release()\n",
    "cv2.destroyAllWindows()\n"
   ]
  },
  {
   "cell_type": "code",
   "execution_count": null,
   "id": "33d490a0",
   "metadata": {},
   "outputs": [],
   "source": []
  }
 ],
 "metadata": {
  "kernelspec": {
   "display_name": "Python 3",
   "language": "python",
   "name": "python3"
  },
  "language_info": {
   "codemirror_mode": {
    "name": "ipython",
    "version": 3
   },
   "file_extension": ".py",
   "mimetype": "text/x-python",
   "name": "python",
   "nbconvert_exporter": "python",
   "pygments_lexer": "ipython3",
   "version": "3.8.8"
  }
 },
 "nbformat": 4,
 "nbformat_minor": 5
}
