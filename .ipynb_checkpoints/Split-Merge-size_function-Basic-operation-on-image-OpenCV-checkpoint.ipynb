{
 "cells": [
  {
   "cell_type": "code",
   "execution_count": 1,
   "id": "e0e51f18",
   "metadata": {},
   "outputs": [],
   "source": [
    "import cv2\n",
    "import numpy as np"
   ]
  },
  {
   "cell_type": "markdown",
   "id": "12f0a6df",
   "metadata": {},
   "source": [
    "## Split image by BGR colour"
   ]
  },
  {
   "cell_type": "code",
   "execution_count": 3,
   "id": "cd718879",
   "metadata": {},
   "outputs": [
    {
     "name": "stdout",
     "output_type": "stream",
     "text": [
      "shape== (400, 600, 3)\n",
      "no.of pixels== 720000\n",
      "datatype== uint8\n",
      "Imagetype== <class 'numpy.ndarray'>\n"
     ]
    }
   ],
   "source": [
    "# Read an image\n",
    "#Start with Basic operations on Image\n",
    "\n",
    "img = cv2.imread(\"C:\\\\Users\\\\Avik Das\\\\Documents\\\\OpenCV\\\\contents\\\\betta.jpg\")\n",
    "img = cv2.resize(img,(600,400))\n",
    "cv2.imshow(\"res\",img)\n",
    "print(\"shape==\",img.shape) #returns a tuple of number of rows, columns, and channels\n",
    "print(\"no.of pixels==\",img.size) #returns Total number of pixels is accessed\n",
    "print(\"datatype==\",img.dtype) #returns Image datatype is obtained\n",
    "print(\"Imagetype==\",type(img))\n",
    "\n",
    "#Now try to split an image\n",
    "#split  -  return 3 channel of ur image which is blue,green,red\n",
    "#print(cv2.split(img))\n",
    "b,g,r = cv2.split(img)\n",
    "\n",
    "\n",
    "cv2.imshow(\"blue\",b)\n",
    "cv2.imshow(\"green\",g)\n",
    "cv2.imshow(\"red\",r)\n",
    "\n",
    "\n",
    "cv2.waitKey()\n",
    "cv2.destroyAllWindows()\n"
   ]
  },
  {
   "cell_type": "markdown",
   "id": "b9a8cdac",
   "metadata": {},
   "source": [
    "## Merge color Channels"
   ]
  },
  {
   "cell_type": "code",
   "execution_count": 5,
   "id": "fbbc06f9",
   "metadata": {},
   "outputs": [
    {
     "name": "stdout",
     "output_type": "stream",
     "text": [
      "shape== (400, 600, 3)\n",
      "no.of pixels== 720000\n",
      "datatype== uint8\n",
      "Imagetype== <class 'numpy.ndarray'>\n"
     ]
    }
   ],
   "source": [
    "img = cv2.imread(\"C:\\\\Users\\\\Avik Das\\\\Documents\\\\OpenCV\\\\contents\\\\betta.jpg\")\n",
    "img = cv2.resize(img,(600,400))\n",
    "cv2.imshow(\"res\",img)\n",
    "print(\"shape==\",img.shape) #returns a tuple of number of rows, columns, and channels\n",
    "print(\"no.of pixels==\",img.size) #returns Total number of pixels is accessed\n",
    "print(\"datatype==\",img.dtype) #returns Image datatype is obtained\n",
    "print(\"Imagetype==\",type(img))\n",
    "#Now if you want to mix the the channels then use merge\n",
    "\n",
    "mr1 = cv2.merge((r,g,b))\n",
    "cv2.imshow(\"rgb\",mr1)\n",
    "mr2 = cv2.merge((g,b,r))\n",
    "cv2.imshow(\"gbr\",mr2)\n",
    "\n",
    "cv2.waitKey()\n",
    "cv2.destroyAllWindows()"
   ]
  },
  {
   "cell_type": "code",
   "execution_count": null,
   "id": "0beeb19d",
   "metadata": {},
   "outputs": [
    {
     "name": "stdout",
     "output_type": "stream",
     "text": [
      "the pixel of that co-ordinates== [236 236 253]\n",
      "the pixel having blue color== 236\n",
      "the pixel having grn color== 236\n",
      "the pixel having red color== 253\n"
     ]
    }
   ],
   "source": [
    "#Working on pixel color values------\n",
    "\n",
    "img = cv2.imread(\"C:\\\\Users\\\\Avik Das\\\\Documents\\\\OpenCV\\\\contents\\\\betta.jpg\")\n",
    "img = cv2.resize(img,(1024,700))\n",
    "cv2.imshow(\"Betta\",img)\n",
    "\n",
    "#access a pixel value by its row and column coordinates.\n",
    "px = img[520,580] #store cordinate in variable\n",
    "print(\"the pixel of that co-ordinates==\",px) #we get the pixel value\n",
    "\n",
    "#Now try to find selected channel value from cordinate\n",
    "#We know we have three channel -   0,1,2\n",
    "# accessing only blue pixel\n",
    "blue = img[520,580,0]\n",
    "print(\"the pixel having blue color==\",blue)\n",
    "\n",
    "grn = img[520,580,1] #for green pass 1\n",
    "print(\"the pixel having grn color==\",grn)\n",
    "red = img[520,580,2] #for red pass 2\n",
    "print(\"the pixel having red color==\",red)\n",
    "\n",
    "cv2.waitKey(0)\n",
    "cv2.destroyAllWindows()"
   ]
  },
  {
   "cell_type": "code",
   "execution_count": null,
   "id": "717993f8",
   "metadata": {},
   "outputs": [],
   "source": []
  },
  {
   "cell_type": "code",
   "execution_count": null,
   "id": "ade70989",
   "metadata": {},
   "outputs": [],
   "source": []
  }
 ],
 "metadata": {
  "kernelspec": {
   "display_name": "Python 3",
   "language": "python",
   "name": "python3"
  },
  "language_info": {
   "codemirror_mode": {
    "name": "ipython",
    "version": 3
   },
   "file_extension": ".py",
   "mimetype": "text/x-python",
   "name": "python",
   "nbconvert_exporter": "python",
   "pygments_lexer": "ipython3",
   "version": "3.8.8"
  }
 },
 "nbformat": 4,
 "nbformat_minor": 5
}
