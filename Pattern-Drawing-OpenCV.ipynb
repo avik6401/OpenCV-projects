{
 "cells": [
  {
   "cell_type": "code",
   "execution_count": 1,
   "id": "299819d7",
   "metadata": {},
   "outputs": [],
   "source": [
    "import numpy as np\n",
    "import cv2"
   ]
  },
  {
   "cell_type": "code",
   "execution_count": 3,
   "id": "ccfe8f70",
   "metadata": {},
   "outputs": [],
   "source": [
    "img = cv2.imread(\"C:\\\\Users\\\\Avik Das\\\\Documents\\\\OpenCV\\\\contents\\\\betta.jpg\")\n",
    "img = cv2.resize(img,(600,700))"
   ]
  },
  {
   "cell_type": "markdown",
   "id": "e7d40e6a",
   "metadata": {},
   "source": [
    "## Create a line on an image"
   ]
  },
  {
   "cell_type": "code",
   "execution_count": 5,
   "id": "da4dafbd",
   "metadata": {},
   "outputs": [],
   "source": [
    "# Draw a line in a image\n",
    "\n",
    "#img = np.zeros([512,512,3],np.unit8)*255   # is for white screen\n",
    "\n",
    "# Here line accept 5 parameter (img,starting,ending,color,thickness)\n",
    "img = cv2.line(img,(0,0),(200,200),(154,92,424),8) # Color format BGR\n",
    "\n",
    "cv2.imshow('Image',img)\n",
    "cv2.waitKey(0)\n",
    "cv2.destroyAllWindows()"
   ]
  },
  {
   "cell_type": "markdown",
   "id": "584f4997",
   "metadata": {},
   "source": [
    "## Create a Arrowline in a Black background"
   ]
  },
  {
   "cell_type": "code",
   "execution_count": 7,
   "id": "9c66f619",
   "metadata": {},
   "outputs": [],
   "source": [
    "#img = cv2.imread(\"C:\\\\Users\\\\Avik Das\\\\Documents\\\\OpenCV\\\\contents\\\\betta.jpg\")\n",
    "img = np.zeros([512,512,3],np.uint8)*255\n",
    "img = cv2.resize(img,(600,700))\n",
    "\n",
    "#Here Arrowline accept 5 parameter (img,starting,ending,color,thickness)\n",
    "img = cv2.arrowedLine(img,(0,125),(255,255),(209,242,101),2) # Color format BGR\n",
    "\n",
    "cv2.imshow('Image',img)\n",
    "cv2.waitKey(0)\n",
    "cv2.destroyAllWindows()"
   ]
  },
  {
   "cell_type": "markdown",
   "id": "125f4ef6",
   "metadata": {},
   "source": [
    "## Draw a Rectangle in an image"
   ]
  },
  {
   "cell_type": "code",
   "execution_count": 16,
   "id": "cb0c45b0",
   "metadata": {},
   "outputs": [],
   "source": [
    "\n",
    "img = cv2.imread(\"C:\\\\Users\\\\Avik Das\\\\Documents\\\\OpenCV\\\\contents\\\\betta.jpg\")\n",
    "img = cv2.resize(img,(600,700))\n",
    "\n",
    "# Here Rectangle accept 5 parameter (img,starting-cordination,ending-cordination,colot,thickness)\n",
    "img = cv2.rectangle(img,(384,10),(510,128),(209,242,101),-1)    # if thickness is positive then create a outline only with the color,if negative it fills the rectangle with the specific color.\n",
    "img = cv2.resize(img,(600,700))\n",
    "\n",
    "cv2.imshow('Image',img)\n",
    "\n",
    "cv2.waitKey(0)\n",
    "cv2.destroyAllWindows()"
   ]
  },
  {
   "cell_type": "markdown",
   "id": "72322018",
   "metadata": {},
   "source": [
    "## Draw a Rectangle in a Video captured by webcam"
   ]
  },
  {
   "cell_type": "code",
   "execution_count": 22,
   "id": "d507b4f2",
   "metadata": {},
   "outputs": [],
   "source": [
    "import cv2\n",
    "vid = cv2.VideoCapture(0,cv2.CAP_DSHOW)  # 0 PARAMETER is a path to use inbuilt webcam of your  pc\n",
    "\n",
    "while vid.isOpened():\n",
    "    ret, frame=vid.read() # here read the frame   ## ret = complete video , frame = total image of the video\n",
    "    if ret==True:\n",
    "        \n",
    "        frame = cv2.resize(frame,(700,450))\n",
    "        gray = cv2.rectangle(frame,(384,10),(510,128),(209,242,101),-1)\n",
    "        \n",
    "        cv2.imshow('Videoframe',frame)\n",
    "        #cv2.imshow('Videoframe',gray)\n",
    "        if cv2.waitKey(120) == ord('q'):  ## ord(\"q\") returns the Unicode code point of q\n",
    "            break\n",
    "vid.release()\n",
    "cv2.destroyAllWindows()"
   ]
  },
  {
   "cell_type": "markdown",
   "id": "edceae96",
   "metadata": {},
   "source": [
    "## Draw  a Circle in an Image"
   ]
  },
  {
   "cell_type": "code",
   "execution_count": 25,
   "id": "495020dd",
   "metadata": {},
   "outputs": [],
   "source": [
    "\n",
    "img = cv2.imread(\"C:\\\\Users\\\\Avik Das\\\\Documents\\\\OpenCV\\\\contents\\\\betta.jpg\")\n",
    "img = cv2.resize(img,(600,700))\n",
    "\n",
    "# Here Circle accepts 5 parameter (img,starting-cordination,radius,colot,thickness)\n",
    "img = cv2.circle(img,(384,120),63,(209,242,101),5)    # if thickness is positive then create a outline only with the color,if negative it fills the rectangle with the specific color.\n",
    "img = cv2.resize(img,(600,700))\n",
    "\n",
    "cv2.imshow('Image',img)\n",
    "\n",
    "cv2.waitKey(0)\n",
    "cv2.destroyAllWindows()"
   ]
  },
  {
   "cell_type": "markdown",
   "id": "4e7bb08a",
   "metadata": {},
   "source": [
    "## Draw Text in an Image"
   ]
  },
  {
   "cell_type": "code",
   "execution_count": 36,
   "id": "c1bce833",
   "metadata": {},
   "outputs": [],
   "source": [
    "\n",
    "img = cv2.imread(\"C:\\\\Users\\\\Avik Das\\\\Documents\\\\OpenCV\\\\contents\\\\betta.jpg\")\n",
    "img = cv2.resize(img,(600,700))\n",
    "\n",
    "# Here puttext accepts parameters (img,TEXT,starting-cordination,font,font-size,color,thickness,linetype)\n",
    "font = cv2.FONT_ITALIC\n",
    "img = cv2.putText(img,\"AVIK\",(175,500),font,4,(119,239,255),10,cv2.LINE_AA)# if thickness is positive then create a outline only with the color,if negative it fills the rectangle with the specific color.\n",
    "#img = cv2.putText(img,\"Designed by me\",(175,500),font,1,(119,239,255),10,cv2.LINE_AA) \n",
    "img = cv2.resize(img,(600,700))\n",
    "\n",
    "cv2.imshow('Image',img)\n",
    "\n",
    "cv2.waitKey(0)\n",
    "cv2.destroyAllWindows()"
   ]
  },
  {
   "cell_type": "markdown",
   "id": "fa9ded1c",
   "metadata": {},
   "source": [
    "## Draw Ellipse in an Image"
   ]
  },
  {
   "cell_type": "code",
   "execution_count": 37,
   "id": "ce3a4e0a",
   "metadata": {},
   "outputs": [],
   "source": [
    "\n",
    "img = cv2.imread(\"C:\\\\Users\\\\Avik Das\\\\Documents\\\\OpenCV\\\\contents\\\\betta.jpg\")\n",
    "img = cv2.resize(img,(600,700))\n",
    "\n",
    "# Here Ellipse accepts parameter (img,starting-cord,(length,height),color,thickness)\n",
    "img = cv2.ellipse(img,(400,600),(100,60),0,0,101,180,5)    # if thickness is positive then create a outline only with the color,if negative it fills the rectangle with the specific color.\n",
    "img = cv2.resize(img,(600,700))\n",
    "\n",
    "cv2.imshow('Image',img)\n",
    "\n",
    "cv2.waitKey(0)\n",
    "cv2.destroyAllWindows()"
   ]
  }
 ],
 "metadata": {
  "kernelspec": {
   "display_name": "Python 3",
   "language": "python",
   "name": "python3"
  },
  "language_info": {
   "codemirror_mode": {
    "name": "ipython",
    "version": 3
   },
   "file_extension": ".py",
   "mimetype": "text/x-python",
   "name": "python",
   "nbconvert_exporter": "python",
   "pygments_lexer": "ipython3",
   "version": "3.8.8"
  }
 },
 "nbformat": 4,
 "nbformat_minor": 5
}
